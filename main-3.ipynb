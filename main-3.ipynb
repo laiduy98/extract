{
 "cells": [
  {
   "cell_type": "code",
   "execution_count": null,
   "metadata": {},
   "outputs": [],
   "source": []
  }
 ],
 "metadata": {
  "kernelspec": {
   "display_name": "nlp",
   "language": "python",
   "name": "python3"
  },
  "language_info": {
   "name": "python",
   "version": "3.10.8 (main, Nov 24 2022, 08:09:04) [Clang 14.0.6 ]"
  },
  "orig_nbformat": 4,
  "vscode": {
   "interpreter": {
    "hash": "d6f0c9841cc69417950b7a2d96ebb954532b6b2b731846be1dbede4e88e3fc88"
   }
  }
 },
 "nbformat": 4,
 "nbformat_minor": 2
}
