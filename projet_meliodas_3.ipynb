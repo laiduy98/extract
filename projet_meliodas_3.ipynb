{
 "cells": [
  {
   "cell_type": "markdown",
   "metadata": {},
   "source": [
    "# UE10 - Extraction\n",
    "\n",
    "- Khang Duy LAI\n",
    "- Mazen TEBIB\n",
    "\n",
    "## Import important libraries"
   ]
  },
  {
   "cell_type": "code",
   "execution_count": 1,
   "metadata": {},
   "outputs": [],
   "source": [
    "import numpy as np\n",
    "import pandas as pd\n",
    "import re\n",
    "from sklearn import preprocessing\n",
    "from sklearn.feature_extraction.text import TfidfVectorizer,TfidfTransformer"
   ]
  },
  {
   "cell_type": "code",
   "execution_count": 2,
   "metadata": {},
   "outputs": [],
   "source": [
    "import warnings\n",
    "warnings.filterwarnings(\"ignore\", category=DeprecationWarning) \n",
    "warnings.filterwarnings(\"ignore\", category=FutureWarning) "
   ]
  },
  {
   "cell_type": "markdown",
   "metadata": {},
   "source": [
    "1) cleaning text\n",
    "2) choosing model\n",
    "3) features extraction\n",
    "4) confusion matrix for grps \n",
    "5) run model through groups (cascade thingy)"
   ]
  },
  {
   "cell_type": "code",
   "execution_count": 3,
   "metadata": {},
   "outputs": [],
   "source": [
    "# metrics to check : \n",
    "# 1)taux d'erreur\n",
    "# 2)Precision **** to maximise\n",
    "# 3)Rappel **** also to maximise ensemble\n",
    "# 4)ROC : well we create one to maximise precision then one model to maximise rappelnd see which one perfoms better on both metrics(ROC)\n",
    "# 5)moyenne harmonique de P et R (F-meùsure): \n",
    "# rapport : basically talk abt ur experiments, what did u want to try, el hypothese that we had to go after this,\n",
    "#           how, analyze ur work and results u have \n",
    "#           (like saying ah we tried *this* ama we find out that our F1 score worse by this margin or better)\n",
    "#           rendu : pdf rapport, zip for code"
   ]
  },
  {
   "cell_type": "code",
   "execution_count": 4,
   "metadata": {},
   "outputs": [],
   "source": [
    "# we gotta change i'm to i am and can't to cannot and maybe we find can not we try to cahnge to cannot too \n",
    "#so we create a compteur that counts how many time we changed it from \"smth\"(not literally since we leave aka #smth in it's place f blaset'ha xd)  to cannot mais plutot on compte combien de cannot appeared that's r not #actually cannot "
   ]
  },
  {
   "cell_type": "code",
   "execution_count": 5,
   "metadata": {},
   "outputs": [],
   "source": [
    "# we gotta change i'm to i am and can't to cannot and maybe we find can not we try to cahnge to cannot too \n",
    "#so we create a compteur that counts how many time we changed it from \"smth\"(not literally since we leave aka \n",
    "# #smth in it's place f blaset'ha xd)  to cannot mais plutot on compte combien de cannot appeared that's r not \n",
    "# #actually cannot "
   ]
  },
  {
   "cell_type": "markdown",
   "metadata": {},
   "source": [
    "Read in the dataset"
   ]
  },
  {
   "cell_type": "code",
   "execution_count": 6,
   "metadata": {},
   "outputs": [],
   "source": [
    "df = pd.read_fwf('./train.txt', colspecs=[(1,4),(6, None)], header=None)\n",
    "df.columns = ['country','description']"
   ]
  },
  {
   "cell_type": "code",
   "execution_count": 7,
   "metadata": {},
   "outputs": [
    {
     "data": {
      "text/html": [
       "<div>\n",
       "<style scoped>\n",
       "    .dataframe tbody tr th:only-of-type {\n",
       "        vertical-align: middle;\n",
       "    }\n",
       "\n",
       "    .dataframe tbody tr th {\n",
       "        vertical-align: top;\n",
       "    }\n",
       "\n",
       "    .dataframe thead th {\n",
       "        text-align: right;\n",
       "    }\n",
       "</style>\n",
       "<table border=\"1\" class=\"dataframe\">\n",
       "  <thead>\n",
       "    <tr style=\"text-align: right;\">\n",
       "      <th></th>\n",
       "      <th>country</th>\n",
       "      <th>description</th>\n",
       "    </tr>\n",
       "  </thead>\n",
       "  <tbody>\n",
       "    <tr>\n",
       "      <td>0</td>\n",
       "      <td>GER</td>\n",
       "      <td>IThe importance and popularity of travelling i...</td>\n",
       "    </tr>\n",
       "    <tr>\n",
       "      <td>1</td>\n",
       "      <td>TUR</td>\n",
       "      <td>It is an important decision , how to plan your...</td>\n",
       "    </tr>\n",
       "    <tr>\n",
       "      <td>2</td>\n",
       "      <td>CHI</td>\n",
       "      <td>Some people believe that young people can enjo...</td>\n",
       "    </tr>\n",
       "    <tr>\n",
       "      <td>3</td>\n",
       "      <td>TEL</td>\n",
       "      <td>Travelling is usually considered as good recre...</td>\n",
       "    </tr>\n",
       "    <tr>\n",
       "      <td>4</td>\n",
       "      <td>ARA</td>\n",
       "      <td>i agree that . Life is a person live period of...</td>\n",
       "    </tr>\n",
       "  </tbody>\n",
       "</table>\n",
       "</div>"
      ],
      "text/plain": [
       "  country                                        description\n",
       "0     GER  IThe importance and popularity of travelling i...\n",
       "1     TUR  It is an important decision , how to plan your...\n",
       "2     CHI  Some people believe that young people can enjo...\n",
       "3     TEL  Travelling is usually considered as good recre...\n",
       "4     ARA  i agree that . Life is a person live period of..."
      ]
     },
     "execution_count": 7,
     "metadata": {},
     "output_type": "execute_result"
    }
   ],
   "source": [
    "df.head()"
   ]
  },
  {
   "cell_type": "markdown",
   "metadata": {},
   "source": [
    "Encode the label"
   ]
  },
  {
   "cell_type": "code",
   "execution_count": 8,
   "metadata": {},
   "outputs": [],
   "source": [
    "le = preprocessing.LabelEncoder()\n",
    "df['y_country'] = le.fit_transform(df.country)"
   ]
  },
  {
   "cell_type": "code",
   "execution_count": 9,
   "metadata": {},
   "outputs": [
    {
     "name": "stderr",
     "output_type": "stream",
     "text": [
      "[nltk_data] Downloading package cmudict to\n",
      "[nltk_data]     C:\\Users\\mazen\\AppData\\Roaming\\nltk_data...\n",
      "[nltk_data]   Package cmudict is already up-to-date!\n"
     ]
    },
    {
     "data": {
      "text/plain": [
       "True"
      ]
     },
     "execution_count": 9,
     "metadata": {},
     "output_type": "execute_result"
    }
   ],
   "source": [
    "import nltk\n",
    "nltk.download('cmudict')"
   ]
  },
  {
   "cell_type": "code",
   "execution_count": 10,
   "metadata": {},
   "outputs": [],
   "source": [
    "from nltk.corpus import cmudict\n",
    "from nltk.tokenize import word_tokenize, sent_tokenize\n",
    "import string\n",
    "\n",
    "\n",
    "def clean_review(text):\n",
    "    \"\"\"\n",
    "    Clean the input text \n",
    "    \"\"\"\n",
    "    cleaned_text = text.lower()\n",
    "    #cleaned_text =  re.sub(r'^https?:\\/\\/.*[\\r\\n]*', '', cleaned_text)\n",
    "    cleaned_text = re.sub('<.*>', '', cleaned_text)\n",
    "    cleaned_text = re.sub('[^a-zA-Z0-9\\s]', '', cleaned_text)\n",
    "    cleaned_text = cleaned_text.split()\n",
    "    \n",
    "    return \" \".join(cleaned_text)"
   ]
  },
  {
   "attachments": {},
   "cell_type": "markdown",
   "metadata": {},
   "source": [
    "### - **Extracting Structural/lexical features**\n",
    "we thought about adding features that represents the writing style  \n",
    "  lexical,syntactic, structural  \n",
    "  *-lexical :*  \n",
    "  total number of words  \n",
    "  total number of characters  \n",
    "  total number of alphabetic characters  \n",
    "  total number of upper-case characters  \n",
    "  total number of syllables  \n",
    "  average word length  \n",
    "  average sentence length by characters  \n",
    "  average sentence length by words   \n",
    "  ratio of unique words  \n",
    "*-syntactic:*  \n",
    "  frequency of special characters  \n",
    "  frequency of punctuations  \n",
    "  frequency of functional words  \n",
    "  part of speech tags  \n",
    "*-structural :*  \n",
    "\tnumber of sentences  \n"
   ]
  },
  {
   "cell_type": "code",
   "execution_count": 11,
   "metadata": {},
   "outputs": [],
   "source": [
    "#count number of sequences\n",
    "def nb_seq(text):\n",
    "    tokens = sent_tokenize(text)\n",
    "    return (len(tokens))\n",
    "df['nb_seq'] = df['description'].apply(lambda x: nb_seq(x))"
   ]
  },
  {
   "cell_type": "code",
   "execution_count": 12,
   "metadata": {},
   "outputs": [],
   "source": [
    "#count number of words\n",
    "def nb_words(text):\n",
    "    text = word_tokenize(text)\n",
    "    st = string.punctuation\n",
    "    words = [word for word in text if word not in st]\n",
    "    return len(words)\n",
    "df['nb_words'] = df['description'].apply(lambda x: nb_words(x))"
   ]
  },
  {
   "cell_type": "code",
   "execution_count": 13,
   "metadata": {},
   "outputs": [],
   "source": [
    "#total number of characters \n",
    "def len_text(text):\n",
    "    return len(text)\n",
    "df['len_text'] = df['description'].apply(lambda x: len_text(x))"
   ]
  },
  {
   "cell_type": "code",
   "execution_count": 14,
   "metadata": {},
   "outputs": [],
   "source": [
    "#count number of alphabetique characters\n",
    "def nb_alpha(text):\n",
    "    return sum(1 for i in text if i.isalpha())\n",
    "df['nb_alpha'] = df['description'].apply(lambda x: nb_alpha(x))"
   ]
  },
  {
   "cell_type": "code",
   "execution_count": 15,
   "metadata": {},
   "outputs": [],
   "source": [
    "#count of uppercase characters\n",
    "def nb_upcase(text):\n",
    "    return sum(1 for i in text if i.isupper())\n",
    "df['nb_uppercase'] = df['description'].apply(lambda x: nb_upcase(x))"
   ]
  },
  {
   "cell_type": "code",
   "execution_count": 16,
   "metadata": {},
   "outputs": [],
   "source": [
    "def syllable_count_Manual(word):\n",
    "    word = word.lower()\n",
    "    count = 0\n",
    "    vowels = \"aeiouy\"\n",
    "    if word[0] in vowels:\n",
    "        count += 1\n",
    "    for index in range(1, len(word)):\n",
    "        if word[index] in vowels and word[index - 1] not in vowels:\n",
    "            count += 1\n",
    "            if word.endswith(\"e\"):\n",
    "                count -= 1\n",
    "    if count == 0:\n",
    "        count += 1\n",
    "    return count\n",
    "def syllable_count(word):\n",
    "    global cmuDictionary\n",
    "    d = cmuDictionary\n",
    "    try:\n",
    "        syl = [len(list(y for y in x if y[-1].isdigit())) for x in d[word.lower()]][0]\n",
    "    except:\n",
    "        syl = syllable_count_Manual(word)\n",
    "    return syl"
   ]
  },
  {
   "cell_type": "code",
   "execution_count": 17,
   "metadata": {},
   "outputs": [],
   "source": [
    "#count syllables\n",
    "global cmuDictionary\n",
    "cmuDictionary = cmudict.dict()\n",
    "df['nb_syllable'] = df['description'].apply(lambda x: syllable_count(x))"
   ]
  },
  {
   "cell_type": "code",
   "execution_count": 18,
   "metadata": {},
   "outputs": [],
   "source": [
    "#count avg word length\n",
    "from nltk.corpus import stopwords\n",
    "def mean_word_length(word):\n",
    "    punc = list(string.punctuation)\n",
    "    tokens = word_tokenize(word, language='english')\n",
    "    stop = stopwords.words('english') + punc \n",
    "    words = [word for word in tokens if word not in stop]\n",
    "    return np.average([len(word) for word in words])\n",
    "df['mean_word_length'] = df['description'].apply(lambda x: mean_word_length(x))"
   ]
  },
  {
   "cell_type": "code",
   "execution_count": 19,
   "metadata": {},
   "outputs": [],
   "source": [
    "#Average Sentence Length By Character\n",
    "def mean_sentence_length(text):\n",
    "    tokens = sent_tokenize(text)\n",
    "    return np.average([len(token) for token in tokens])\n",
    "df['mean_sentence_length'] = df['description'].apply(lambda x: mean_sentence_length(x))"
   ]
  },
  {
   "cell_type": "code",
   "execution_count": 20,
   "metadata": {},
   "outputs": [],
   "source": [
    "#Average sentence length by words\n",
    "def mean_sentence_length_byWords(text):\n",
    "    tokens = sent_tokenize(text)\n",
    "    return np.average([len(token.split()) for token in tokens])\n",
    "df['mean_sentence_length_byWords'] = df['description'].apply(lambda x: mean_sentence_length_byWords(x))"
   ]
  },
  {
   "cell_type": "code",
   "execution_count": 21,
   "metadata": {},
   "outputs": [],
   "source": [
    "def tot_diff_words(text):\n",
    "    words = word_tokenize(text)\n",
    "    return len(set(words)) / len(words)\n",
    "df['tot_diff_words'] = df['description'].apply(lambda x: tot_diff_words(x))"
   ]
  },
  {
   "cell_type": "code",
   "execution_count": 22,
   "metadata": {},
   "outputs": [],
   "source": [
    "#frequency of special character in a text\n",
    "def freq_special_character(text):\n",
    "    sc = string.punctuation\n",
    "    count = 0\n",
    "    for i in text:\n",
    "        if (i in sc):\n",
    "            count = count + 1\n",
    "    return float(count) / float(len(text))"
   ]
  },
  {
   "cell_type": "code",
   "execution_count": 23,
   "metadata": {},
   "outputs": [],
   "source": [
    "#frequency of punctuations in a text\n",
    "def freq_punc(text):\n",
    "    punc = [\",\", \".\", \"'\", \"!\", '\"', \";\", \"?\", \":\", \";\"]\n",
    "    count = 0\n",
    "    for i in text:\n",
    "        if (i in punc):\n",
    "            count = count + 1\n",
    "    return float(count) / float(len(text))"
   ]
  },
  {
   "cell_type": "code",
   "execution_count": 24,
   "metadata": {},
   "outputs": [],
   "source": [
    "#removes punctuation and special characters that are in string.punctuation\n",
    "def remove_punctuation(text):\n",
    "    text = word_tokenize(text)\n",
    "    st = string.punctuation\n",
    "    words = [word for word in text if word not in st]\n",
    "    return words"
   ]
  },
  {
   "cell_type": "code",
   "execution_count": 25,
   "metadata": {},
   "outputs": [],
   "source": [
    "#count frequency of functional words in a text\n",
    "def frequency_functional_words(text):\n",
    "    functional_words = \"\"\"a between in nor some upon about both including nothing somebody us above but inside of someone used after by into off something via all can is on such we although cos it once than what am do its one that whatever among down latter onto the when an each less opposite their where and either like or them whether another enough little our these which any every lots outside they while anybody everybody many over this who anyone everyone me own those whoever anything everything more past though whom are few most per through whose around following much plenty till will as for must plus to with at from my regarding toward within be have near same towards without because he need several under worth before her neither she unless would behind him no should unlike yes below i nobody since until you beside if none so up your\"\"\"\n",
    "    functional_words = functional_words.split()\n",
    "    words = remove_punctuation(text)\n",
    "    count = 0\n",
    "\n",
    "    for i in text:\n",
    "        if i in functional_words:\n",
    "            count += 1\n",
    "    return count / len(words)\n",
    "df['frequency_functional_words'] = df['description'].apply(lambda x: frequency_functional_words(x))"
   ]
  },
  {
   "cell_type": "code",
   "execution_count": 26,
   "metadata": {},
   "outputs": [],
   "source": [
    "df['cleaned_description'] = df['description'].apply(lambda x: clean_review(x))"
   ]
  },
  {
   "cell_type": "code",
   "execution_count": 27,
   "metadata": {},
   "outputs": [
    {
     "name": "stderr",
     "output_type": "stream",
     "text": [
      "[nltk_data] Downloading package averaged_perceptron_tagger to\n",
      "[nltk_data]     C:\\Users\\mazen\\AppData\\Roaming\\nltk_data...\n",
      "[nltk_data]   Package averaged_perceptron_tagger is already up-to-\n",
      "[nltk_data]       date!\n"
     ]
    },
    {
     "data": {
      "text/plain": [
       "True"
      ]
     },
     "execution_count": 27,
     "metadata": {},
     "output_type": "execute_result"
    }
   ],
   "source": [
    "from nltk import pos_tag\n",
    "nltk.download('averaged_perceptron_tagger')"
   ]
  },
  {
   "cell_type": "code",
   "execution_count": 28,
   "metadata": {},
   "outputs": [],
   "source": [
    "def pos_tags_distribution(text):\n",
    "    tokens = word_tokenize(text)\n",
    "    pos_tags = pos_tag(tokens)\n",
    "    pos_counts = nltk.FreqDist(tag for word, tag in pos_tags)\n",
    "    return pos_counts\n",
    "pos_tags_df =[]\n",
    "pos_tags_df = df['cleaned_description'].apply(pos_tags_distribution).apply(pd.Series).fillna(0)\n",
    "pos_tags_df.columns = [f'pos_{col}' for col in pos_tags_df.columns]\n",
    "\n",
    "df = pd.concat([df, pos_tags_df], axis=1)"
   ]
  },
  {
   "cell_type": "code",
   "execution_count": 29,
   "metadata": {},
   "outputs": [
    {
     "data": {
      "text/plain": [
       "Index(['country', 'description', 'y_country', 'nb_seq', 'nb_words', 'len_text',\n",
       "       'nb_alpha', 'nb_uppercase', 'nb_syllable', 'mean_word_length',\n",
       "       'mean_sentence_length', 'mean_sentence_length_byWords',\n",
       "       'tot_diff_words', 'frequency_functional_words', 'cleaned_description',\n",
       "       'pos_JJ', 'pos_NN', 'pos_CC', 'pos_IN', 'pos_VBZ', 'pos_RB', 'pos_VBG',\n",
       "       'pos_TO', 'pos_VB', 'pos_NNS', 'pos_DT', 'pos_WRB', 'pos_PRP',\n",
       "       'pos_VBP', 'pos_JJS', 'pos_VBN', 'pos_RBS', 'pos_VBD', 'pos_MD',\n",
       "       'pos_WDT', 'pos_EX', 'pos_PRP$', 'pos_CD', 'pos_JJR', 'pos_WP',\n",
       "       'pos_RBR', 'pos_RP', 'pos_PDT', 'pos_FW', 'pos_UH', 'pos_WP$',\n",
       "       'pos_NNP', 'pos_NNPS', 'pos_POS', 'pos_$', 'pos_''', 'pos_SYM'],\n",
       "      dtype='object')"
      ]
     },
     "execution_count": 29,
     "metadata": {},
     "output_type": "execute_result"
    }
   ],
   "source": [
    "df.columns"
   ]
  },
  {
   "cell_type": "code",
   "execution_count": 30,
   "metadata": {},
   "outputs": [],
   "source": [
    "X = df['cleaned_description'].values.tolist() \n",
    "Y = df['y_country'].values.tolist()"
   ]
  },
  {
   "cell_type": "markdown",
   "metadata": {},
   "source": [
    "# - choosing best classifier for our case"
   ]
  },
  {
   "cell_type": "code",
   "execution_count": 31,
   "metadata": {},
   "outputs": [],
   "source": [
    "from sklearn.model_selection import train_test_split\n",
    "from sklearn.metrics import accuracy_score\n",
    "from sklearn.metrics import confusion_matrix\n",
    "from sklearn.model_selection import cross_val_score, StratifiedKFold"
   ]
  },
  {
   "cell_type": "code",
   "execution_count": 32,
   "metadata": {},
   "outputs": [],
   "source": [
    "from sklearn.preprocessing import StandardScaler\n",
    "from scipy.sparse import hstack, csr_matrix"
   ]
  },
  {
   "cell_type": "code",
   "execution_count": 33,
   "metadata": {},
   "outputs": [],
   "source": [
    "from sklearn.neighbors import KNeighborsClassifier\n",
    "from sklearn.svm import LinearSVC\n",
    "from sklearn.ensemble import RandomForestClassifier\n",
    "from sklearn.cluster import KMeans"
   ]
  },
  {
   "cell_type": "code",
   "execution_count": 34,
   "metadata": {},
   "outputs": [],
   "source": [
    "names = [\n",
    "    \"Nearest Neighbors\",\n",
    "    \"Linear SVC\",\n",
    "    \"Random Forest\",\n",
    "    \"Kmeans\",\n",
    "    \"GaussianNB\"\n",
    "]\n",
    "classifiers = [\n",
    "    KNeighborsClassifier(n_neighbors=10),\n",
    "    LinearSVC(max_iter=1000),\n",
    "    RandomForestClassifier(max_depth=10),\n",
    "    KMeans(n_clusters=11, random_state=0),\n",
    "]"
   ]
  },
  {
   "cell_type": "code",
   "execution_count": 38,
   "metadata": {},
   "outputs": [],
   "source": [
    "#1st confusion matrix \n",
    "def model(X ,Y, clf, add_features):\n",
    "    X_train, X_test, y_train, y_test  = train_test_split(X, \n",
    "                                                        Y,stratify=Y,\n",
    "                                                        test_size=0.1111, shuffle=True)\n",
    "\n",
    "    tf = TfidfVectorizer(stop_words='english', ngram_range=(1,2))\n",
    "    tf_Xtrain_description = tf.fit_transform(X_train['cleaned_description'])\n",
    "    tf_Xtest_description = tf.transform(X_test['cleaned_description'])\n",
    "    #would be better if u split data before then fit then transform  \n",
    "    if add_features:\n",
    "        X_train = X_train[add_features]\n",
    "        X_test = X_test[add_features]\n",
    "\n",
    "        X_train = X_train.fillna(0)\n",
    "        X_test = X_test.fillna(0)\n",
    "        \n",
    "        scaler = StandardScaler()   \n",
    "        X_train_scaled = scaler.fit_transform(X_train)\n",
    "        X_test_scaled = scaler.fit_transform(X_test)\n",
    "\n",
    "        X_train_sparse = csr_matrix(X_train_scaled)\n",
    "        X_test_sparse = csr_matrix(X_test_scaled)\n",
    "\n",
    "\n",
    "        tf_Xtrain = hstack((tf_Xtrain_description, X_train_sparse))\n",
    "        tf_Xtest = hstack((tf_Xtest_description, X_test_sparse))\n",
    "    else:\n",
    "        tf_Xtrain = tf_Xtrain_description\n",
    "        tf_Xtest = tf_Xtest_description\n",
    "        \n",
    "    # skf = StratifiedKFold(n_splits=5, shuffle=True, random_state=0)\n",
    "    # cv_results = cross_val_score(clf, tf_Xtrain, y_train, cv=skf, scoring='f1_micro', n_jobs = -1)\n",
    "\n",
    "    clf = clf.fit(tf_Xtrain, y_train)\n",
    "    \n",
    "    # print(cv_results, cv_results.mean())    \n",
    "    y_pred = clf.predict(tf_Xtest)\n",
    "    acc = accuracy_score(y_test,y_pred)\n",
    "    print(\"accuracy\", acc)\n",
    "    \n",
    "    y_test = le.inverse_transform(y_test)\n",
    "    y_pred = le.inverse_transform(y_pred)\n",
    "    \n",
    "    \"\"\"labels = ['JPN', 'KOR', 'CHI',  'HIN',  'TEL', 'ARA',  'TUR', 'SPA',  'FRE', 'ITA' ,'GER']\n",
    "    cf = confusion_matrix(y_test, y_pred, labels = labels)\n",
    "    cf_df = pd.DataFrame(cf ,index = labels, columns = labels)\"\"\"\n",
    "    return acc"
   ]
  },
  {
   "cell_type": "code",
   "execution_count": 36,
   "metadata": {},
   "outputs": [],
   "source": [
    "cf_dfn=[]"
   ]
  },
  {
   "cell_type": "code",
   "execution_count": 37,
   "metadata": {},
   "outputs": [],
   "source": [
    "import lightgbm as lgb\n",
    "lgbm_clf = lgb"
   ]
  },
  {
   "cell_type": "code",
   "execution_count": 49,
   "metadata": {},
   "outputs": [],
   "source": [
    "params = {\n",
    "    'objective': 'multiclass',\n",
    "    'num_class': len(df['y_country'].unique()),\n",
    "    'boosting_type': 'gbdt',\n",
    "    'n_jobs': -1,\n",
    "    'learning_rate': 0.03,\n",
    "    'num_leaves': 31,\n",
    "    'max_depth': -1,\n",
    "    'min_data_in_leaf': 20,\n",
    "    'feature_fraction': 1,\n",
    "}"
   ]
  },
  {
   "cell_type": "code",
   "execution_count": 51,
   "metadata": {},
   "outputs": [
    {
     "name": "stdout",
     "output_type": "stream",
     "text": [
      "(8800, 656095)\n",
      "[LightGBM] [Warning] Auto-choosing row-wise multi-threading, the overhead of testing was 0.256239 seconds.\n",
      "You can set `force_row_wise=true` to remove the overhead.\n",
      "And if memory is not enough, you can set `force_col_wise=true`.\n",
      "[LightGBM] [Info] Total Bins 258717\n",
      "[LightGBM] [Info] Number of data points in the train set: 8800, number of used features: 7794\n",
      "[LightGBM] [Info] Start training from score -2.397895\n",
      "[LightGBM] [Info] Start training from score -2.397895\n",
      "[LightGBM] [Info] Start training from score -2.397895\n",
      "[LightGBM] [Info] Start training from score -2.397895\n",
      "[LightGBM] [Info] Start training from score -2.397895\n",
      "[LightGBM] [Info] Start training from score -2.397895\n",
      "[LightGBM] [Info] Start training from score -2.397895\n",
      "[LightGBM] [Info] Start training from score -2.397895\n",
      "[LightGBM] [Info] Start training from score -2.397895\n",
      "[LightGBM] [Info] Start training from score -2.397895\n",
      "[LightGBM] [Info] Start training from score -2.397895\n"
     ]
    },
    {
     "name": "stderr",
     "output_type": "stream",
     "text": [
      "c:\\Users\\mazen\\Anaconda3\\lib\\site-packages\\lightgbm\\basic.py:859: UserWarning: Converting data to scipy sparse matrix.\n",
      "  _log_warning('Converting data to scipy sparse matrix.')\n"
     ]
    },
    {
     "name": "stdout",
     "output_type": "stream",
     "text": [
      "accuracy 0.5309090909090909\n"
     ]
    }
   ],
   "source": [
    "cf = compare_models(X,Y, lgb,params,add_features=['nb_seq', 'nb_words', 'len_text', 'nb_uppercase', 'mean_sentence_length_byWords', 'tot_diff_words','frequency_functional_words','pos_JJ', 'pos_NN', 'pos_CC', 'pos_IN', 'pos_VBZ', 'pos_RB', 'pos_VBG',\n",
    "       'pos_TO', 'pos_VB', 'pos_NNS', 'pos_DT', 'pos_WRB', 'pos_PRP',\n",
    "       'pos_VBP', 'pos_JJS', 'pos_VBN', 'pos_RBS', 'pos_VBD', 'pos_MD',\n",
    "       'pos_WDT', 'pos_EX', 'pos_PRP$', 'pos_CD', 'pos_JJR', 'pos_WP',\n",
    "       'pos_RBR', 'pos_RP', 'pos_PDT', 'pos_FW', 'pos_UH', 'pos_WP$',\n",
    "       'pos_NNP', 'pos_NNPS', 'pos_POS', 'pos_$', \"pos_''\", 'pos_SYM'])"
   ]
  },
  {
   "attachments": {},
   "cell_type": "markdown",
   "metadata": {},
   "source": [
    "**we tried using lightgmb since it’s known for being fast and reliable however we got an accuracy of 0.53**"
   ]
  },
  {
   "cell_type": "code",
   "execution_count": 33,
   "metadata": {},
   "outputs": [
    {
     "name": "stdout",
     "output_type": "stream",
     "text": [
      "for classifier : Nearest Neighbors\n",
      "accuracy 0.22363636363636363\n",
      "for classifier : Linear SVC\n",
      "accuracy 0.7036363636363636\n",
      "for classifier : Random Forest\n",
      "accuracy 0.19545454545454546\n",
      "for classifier : Kmeans\n"
     ]
    },
    {
     "ename": "KeyboardInterrupt",
     "evalue": "",
     "output_type": "error",
     "traceback": [
      "\u001b[1;31m---------------------------------------------------------------------------\u001b[0m",
      "\u001b[1;31mKeyboardInterrupt\u001b[0m                         Traceback (most recent call last)",
      "\u001b[1;32m<ipython-input-33-d31f459b12db>\u001b[0m in \u001b[0;36m<module>\u001b[1;34m\u001b[0m\n\u001b[0;32m      1\u001b[0m \u001b[1;32mfor\u001b[0m \u001b[0mname\u001b[0m\u001b[1;33m,\u001b[0m \u001b[0mclf\u001b[0m \u001b[1;32min\u001b[0m \u001b[0mzip\u001b[0m\u001b[1;33m(\u001b[0m\u001b[0mnames\u001b[0m\u001b[1;33m,\u001b[0m\u001b[0mclassifiers\u001b[0m\u001b[1;33m)\u001b[0m\u001b[1;33m:\u001b[0m\u001b[1;33m\u001b[0m\u001b[1;33m\u001b[0m\u001b[0m\n\u001b[0;32m      2\u001b[0m   \u001b[0mprint\u001b[0m\u001b[1;33m(\u001b[0m\u001b[1;34m\"for classifier :\"\u001b[0m\u001b[1;33m,\u001b[0m \u001b[0mname\u001b[0m\u001b[1;33m)\u001b[0m\u001b[1;33m\u001b[0m\u001b[1;33m\u001b[0m\u001b[0m\n\u001b[1;32m----> 3\u001b[1;33m   \u001b[0mcf_df\u001b[0m \u001b[1;33m=\u001b[0m \u001b[0mmodel\u001b[0m\u001b[1;33m(\u001b[0m\u001b[0mX\u001b[0m\u001b[1;33m,\u001b[0m\u001b[0mY\u001b[0m\u001b[1;33m,\u001b[0m\u001b[0mclf\u001b[0m\u001b[1;33m)\u001b[0m\u001b[1;33m\u001b[0m\u001b[1;33m\u001b[0m\u001b[0m\n\u001b[0m",
      "\u001b[1;32m<ipython-input-31-5bf6a2797136>\u001b[0m in \u001b[0;36mmodel\u001b[1;34m(X, Y, clf)\u001b[0m\n\u001b[0;32m     11\u001b[0m \u001b[1;33m\u001b[0m\u001b[0m\n\u001b[0;32m     12\u001b[0m \u001b[1;33m\u001b[0m\u001b[0m\n\u001b[1;32m---> 13\u001b[1;33m     \u001b[0mclf\u001b[0m\u001b[1;33m.\u001b[0m\u001b[0mfit\u001b[0m\u001b[1;33m(\u001b[0m\u001b[0mtf_Xtrain\u001b[0m\u001b[1;33m,\u001b[0m\u001b[0my_train\u001b[0m\u001b[1;33m)\u001b[0m\u001b[1;33m\u001b[0m\u001b[1;33m\u001b[0m\u001b[0m\n\u001b[0m\u001b[0;32m     14\u001b[0m     \u001b[0my_pred\u001b[0m \u001b[1;33m=\u001b[0m \u001b[0mclf\u001b[0m\u001b[1;33m.\u001b[0m\u001b[0mpredict\u001b[0m\u001b[1;33m(\u001b[0m\u001b[0mtf_Xtest\u001b[0m\u001b[1;33m)\u001b[0m\u001b[1;33m\u001b[0m\u001b[1;33m\u001b[0m\u001b[0m\n\u001b[0;32m     15\u001b[0m     \u001b[0mprint\u001b[0m\u001b[1;33m(\u001b[0m\u001b[1;34m\"accuracy\"\u001b[0m\u001b[1;33m,\u001b[0m \u001b[0maccuracy_score\u001b[0m\u001b[1;33m(\u001b[0m\u001b[0my_test\u001b[0m\u001b[1;33m,\u001b[0m\u001b[0my_pred\u001b[0m\u001b[1;33m)\u001b[0m\u001b[1;33m)\u001b[0m\u001b[1;33m\u001b[0m\u001b[1;33m\u001b[0m\u001b[0m\n",
      "\u001b[1;32mc:\\Users\\mazen\\Anaconda3\\lib\\site-packages\\sklearn\\cluster\\k_means_.py\u001b[0m in \u001b[0;36mfit\u001b[1;34m(self, X, y, sample_weight)\u001b[0m\n\u001b[0;32m    970\u001b[0m                 \u001b[0mtol\u001b[0m\u001b[1;33m=\u001b[0m\u001b[0mself\u001b[0m\u001b[1;33m.\u001b[0m\u001b[0mtol\u001b[0m\u001b[1;33m,\u001b[0m \u001b[0mrandom_state\u001b[0m\u001b[1;33m=\u001b[0m\u001b[0mrandom_state\u001b[0m\u001b[1;33m,\u001b[0m \u001b[0mcopy_x\u001b[0m\u001b[1;33m=\u001b[0m\u001b[0mself\u001b[0m\u001b[1;33m.\u001b[0m\u001b[0mcopy_x\u001b[0m\u001b[1;33m,\u001b[0m\u001b[1;33m\u001b[0m\u001b[1;33m\u001b[0m\u001b[0m\n\u001b[0;32m    971\u001b[0m                 \u001b[0mn_jobs\u001b[0m\u001b[1;33m=\u001b[0m\u001b[0mself\u001b[0m\u001b[1;33m.\u001b[0m\u001b[0mn_jobs\u001b[0m\u001b[1;33m,\u001b[0m \u001b[0malgorithm\u001b[0m\u001b[1;33m=\u001b[0m\u001b[0mself\u001b[0m\u001b[1;33m.\u001b[0m\u001b[0malgorithm\u001b[0m\u001b[1;33m,\u001b[0m\u001b[1;33m\u001b[0m\u001b[1;33m\u001b[0m\u001b[0m\n\u001b[1;32m--> 972\u001b[1;33m                 return_n_iter=True)\n\u001b[0m\u001b[0;32m    973\u001b[0m         \u001b[1;32mreturn\u001b[0m \u001b[0mself\u001b[0m\u001b[1;33m\u001b[0m\u001b[1;33m\u001b[0m\u001b[0m\n\u001b[0;32m    974\u001b[0m \u001b[1;33m\u001b[0m\u001b[0m\n",
      "\u001b[1;32mc:\\Users\\mazen\\Anaconda3\\lib\\site-packages\\sklearn\\cluster\\k_means_.py\u001b[0m in \u001b[0;36mk_means\u001b[1;34m(X, n_clusters, sample_weight, init, precompute_distances, n_init, max_iter, verbose, tol, random_state, copy_x, n_jobs, algorithm, return_n_iter)\u001b[0m\n\u001b[0;32m    379\u001b[0m                 \u001b[0mverbose\u001b[0m\u001b[1;33m=\u001b[0m\u001b[0mverbose\u001b[0m\u001b[1;33m,\u001b[0m \u001b[0mprecompute_distances\u001b[0m\u001b[1;33m=\u001b[0m\u001b[0mprecompute_distances\u001b[0m\u001b[1;33m,\u001b[0m\u001b[1;33m\u001b[0m\u001b[1;33m\u001b[0m\u001b[0m\n\u001b[0;32m    380\u001b[0m                 \u001b[0mtol\u001b[0m\u001b[1;33m=\u001b[0m\u001b[0mtol\u001b[0m\u001b[1;33m,\u001b[0m \u001b[0mx_squared_norms\u001b[0m\u001b[1;33m=\u001b[0m\u001b[0mx_squared_norms\u001b[0m\u001b[1;33m,\u001b[0m\u001b[1;33m\u001b[0m\u001b[1;33m\u001b[0m\u001b[0m\n\u001b[1;32m--> 381\u001b[1;33m                 random_state=random_state)\n\u001b[0m\u001b[0;32m    382\u001b[0m             \u001b[1;31m# determine if these results are the best so far\u001b[0m\u001b[1;33m\u001b[0m\u001b[1;33m\u001b[0m\u001b[1;33m\u001b[0m\u001b[0m\n\u001b[0;32m    383\u001b[0m             \u001b[1;32mif\u001b[0m \u001b[0mbest_inertia\u001b[0m \u001b[1;32mis\u001b[0m \u001b[1;32mNone\u001b[0m \u001b[1;32mor\u001b[0m \u001b[0minertia\u001b[0m \u001b[1;33m<\u001b[0m \u001b[0mbest_inertia\u001b[0m\u001b[1;33m:\u001b[0m\u001b[1;33m\u001b[0m\u001b[1;33m\u001b[0m\u001b[0m\n",
      "\u001b[1;32mc:\\Users\\mazen\\Anaconda3\\lib\\site-packages\\sklearn\\cluster\\k_means_.py\u001b[0m in \u001b[0;36m_kmeans_single_lloyd\u001b[1;34m(X, sample_weight, n_clusters, max_iter, init, verbose, x_squared_norms, random_state, tol, precompute_distances)\u001b[0m\n\u001b[0;32m    550\u001b[0m         \u001b[1;32mif\u001b[0m \u001b[0msp\u001b[0m\u001b[1;33m.\u001b[0m\u001b[0missparse\u001b[0m\u001b[1;33m(\u001b[0m\u001b[0mX\u001b[0m\u001b[1;33m)\u001b[0m\u001b[1;33m:\u001b[0m\u001b[1;33m\u001b[0m\u001b[1;33m\u001b[0m\u001b[0m\n\u001b[0;32m    551\u001b[0m             centers = _k_means._centers_sparse(X, sample_weight, labels,\n\u001b[1;32m--> 552\u001b[1;33m                                                n_clusters, distances)\n\u001b[0m\u001b[0;32m    553\u001b[0m         \u001b[1;32melse\u001b[0m\u001b[1;33m:\u001b[0m\u001b[1;33m\u001b[0m\u001b[1;33m\u001b[0m\u001b[0m\n\u001b[0;32m    554\u001b[0m             centers = _k_means._centers_dense(X, sample_weight, labels,\n",
      "\u001b[1;31mKeyboardInterrupt\u001b[0m: "
     ]
    }
   ],
   "source": [
    "for name, clf in zip(names,classifiers):\n",
    "  print(\"for classifier :\", name)\n",
    "  cf_df = models(X,Y,clf)"
   ]
  },
  {
   "cell_type": "code",
   "execution_count": 37,
   "metadata": {},
   "outputs": [],
   "source": [
    "#we choose linearSVC"
   ]
  },
  {
   "cell_type": "markdown",
   "metadata": {},
   "source": [
    "### - Confusion matrix "
   ]
  },
  {
   "cell_type": "code",
   "execution_count": 38,
   "metadata": {},
   "outputs": [
    {
     "name": "stdout",
     "output_type": "stream",
     "text": [
      "accuracy 0.6945454545454546\n",
      "accuracy 0.6818181818181818\n",
      "accuracy 0.6981818181818182\n",
      "accuracy 0.7063636363636364\n"
     ]
    }
   ],
   "source": [
    "cf_df = model(X,Y, LinearSVC(max_iter=1000))\n",
    "cf_df1 = model(X,Y, LinearSVC(max_iter=1000))\n",
    "cf_df2 = model(X,Y, LinearSVC(max_iter=1000))\n",
    "cf_df3 = model(X,Y, LinearSVC(max_iter=1000))"
   ]
  },
  {
   "cell_type": "code",
   "execution_count": 39,
   "metadata": {},
   "outputs": [],
   "source": [
    "cf_sum = cf_df + cf_df1 + cf_df2 + cf_df3"
   ]
  },
  {
   "cell_type": "code",
   "execution_count": 40,
   "metadata": {},
   "outputs": [
    {
     "data": {
      "text/plain": [
       "<AxesSubplot:>"
      ]
     },
     "execution_count": 40,
     "metadata": {},
     "output_type": "execute_result"
    },
    {
     "data": {
      "image/png": "[encoded data removed]",
      "text/plain": [
       "<Figure size 1170x827 with 2 Axes>"
      ]
     },
     "metadata": {},
     "output_type": "display_data"
    }
   ],
   "source": [
    "import seaborn as sns\n",
    "sns.set(rc={'figure.figsize':(11,8)})\n",
    "sns.heatmap(cf_sum, annot=True, fmt='g')"
   ]
  },
  {
   "attachments": {},
   "cell_type": "markdown",
   "metadata": {},
   "source": [
    "* **after finding best model and groups(by countries) now we try to extract different features and redo the classification**"
   ]
  },
  {
   "cell_type": "code",
   "execution_count": 48,
   "metadata": {},
   "outputs": [
    {
     "data": {
      "text/plain": [
       "Index(['country', 'description', 'y_country', 'nb_seq', 'nb_words', 'len_text',\n",
       "       'nb_alpha', 'nb_uppercase', 'nb_syllable', 'mean_word_length',\n",
       "       'mean_sentence_length', 'mean_sentence_length_byWords',\n",
       "       'tot_diff_words', 'frequency_functional_words', 'cleaned_description',\n",
       "       'pos_JJ', 'pos_NN', 'pos_CC', 'pos_IN', 'pos_VBZ', 'pos_RB', 'pos_VBG',\n",
       "       'pos_TO', 'pos_VB', 'pos_NNS', 'pos_DT', 'pos_WRB', 'pos_PRP',\n",
       "       'pos_VBP', 'pos_JJS', 'pos_VBN', 'pos_RBS', 'pos_VBD', 'pos_MD',\n",
       "       'pos_WDT', 'pos_EX', 'pos_PRP$', 'pos_CD', 'pos_JJR', 'pos_WP',\n",
       "       'pos_RBR', 'pos_RP', 'pos_PDT', 'pos_FW', 'pos_UH', 'pos_WP$',\n",
       "       'pos_NNP', 'pos_NNPS', 'pos_POS', 'pos_$', 'pos_''', 'pos_SYM'],\n",
       "      dtype='object')"
      ]
     },
     "execution_count": 48,
     "metadata": {},
     "output_type": "execute_result"
    }
   ],
   "source": [
    "df.columns"
   ]
  },
  {
   "cell_type": "code",
   "execution_count": 69,
   "metadata": {},
   "outputs": [],
   "source": [
    "Y = df['y_country']"
   ]
  },
  {
   "cell_type": "code",
   "execution_count": 51,
   "metadata": {},
   "outputs": [
    {
     "data": {
      "text/html": [
       "<div>\n",
       "<style scoped>\n",
       "    .dataframe tbody tr th:only-of-type {\n",
       "        vertical-align: middle;\n",
       "    }\n",
       "\n",
       "    .dataframe tbody tr th {\n",
       "        vertical-align: top;\n",
       "    }\n",
       "\n",
       "    .dataframe thead th {\n",
       "        text-align: right;\n",
       "    }\n",
       "</style>\n",
       "<table border=\"1\" class=\"dataframe\">\n",
       "  <thead>\n",
       "    <tr style=\"text-align: right;\">\n",
       "      <th></th>\n",
       "      <th>cleaned_description</th>\n",
       "      <th>nb_seq</th>\n",
       "      <th>nb_words</th>\n",
       "      <th>len_text</th>\n",
       "      <th>nb_alpha</th>\n",
       "      <th>nb_uppercase</th>\n",
       "      <th>nb_syllable</th>\n",
       "      <th>mean_word_length</th>\n",
       "      <th>mean_sentence_length</th>\n",
       "      <th>mean_sentence_length_byWords</th>\n",
       "      <th>...</th>\n",
       "      <th>pos_PDT</th>\n",
       "      <th>pos_FW</th>\n",
       "      <th>pos_UH</th>\n",
       "      <th>pos_WP$</th>\n",
       "      <th>pos_NNP</th>\n",
       "      <th>pos_NNPS</th>\n",
       "      <th>pos_POS</th>\n",
       "      <th>pos_$</th>\n",
       "      <th>pos_''</th>\n",
       "      <th>pos_SYM</th>\n",
       "    </tr>\n",
       "  </thead>\n",
       "  <tbody>\n",
       "    <tr>\n",
       "      <td>0</td>\n",
       "      <td>ithe importance and popularity of travelling i...</td>\n",
       "      <td>13</td>\n",
       "      <td>321</td>\n",
       "      <td>1649</td>\n",
       "      <td>1293</td>\n",
       "      <td>16</td>\n",
       "      <td>468</td>\n",
       "      <td>5.611511</td>\n",
       "      <td>125.923077</td>\n",
       "      <td>26.076923</td>\n",
       "      <td>...</td>\n",
       "      <td>0.0</td>\n",
       "      <td>0.0</td>\n",
       "      <td>0.0</td>\n",
       "      <td>0.0</td>\n",
       "      <td>0.0</td>\n",
       "      <td>0.0</td>\n",
       "      <td>0.0</td>\n",
       "      <td>0.0</td>\n",
       "      <td>0.0</td>\n",
       "      <td>0.0</td>\n",
       "    </tr>\n",
       "  </tbody>\n",
       "</table>\n",
       "<p>1 rows × 49 columns</p>\n",
       "</div>"
      ],
      "text/plain": [
       "                                 cleaned_description  nb_seq  nb_words  \\\n",
       "0  ithe importance and popularity of travelling i...      13       321   \n",
       "\n",
       "   len_text  nb_alpha  nb_uppercase  nb_syllable  mean_word_length  \\\n",
       "0      1649      1293            16          468          5.611511   \n",
       "\n",
       "   mean_sentence_length  mean_sentence_length_byWords  ...  pos_PDT  pos_FW  \\\n",
       "0            125.923077                     26.076923  ...      0.0     0.0   \n",
       "\n",
       "   pos_UH  pos_WP$  pos_NNP  pos_NNPS  pos_POS  pos_$  pos_''  pos_SYM  \n",
       "0     0.0      0.0      0.0       0.0      0.0    0.0     0.0      0.0  \n",
       "\n",
       "[1 rows x 49 columns]"
      ]
     },
     "execution_count": 51,
     "metadata": {},
     "output_type": "execute_result"
    }
   ],
   "source": [
    "X.head(1)"
   ]
  },
  {
   "cell_type": "code",
   "execution_count": 52,
   "metadata": {},
   "outputs": [
    {
     "data": {
      "text/plain": [
       "(9900, 49)"
      ]
     },
     "execution_count": 52,
     "metadata": {},
     "output_type": "execute_result"
    }
   ],
   "source": [
    "X.shape"
   ]
  },
  {
   "cell_type": "code",
   "execution_count": 53,
   "metadata": {},
   "outputs": [
    {
     "data": {
      "text/plain": [
       "(9900,)"
      ]
     },
     "execution_count": 53,
     "metadata": {},
     "output_type": "execute_result"
    }
   ],
   "source": [
    "Y.shape"
   ]
  },
  {
   "cell_type": "code",
   "execution_count": 39,
   "metadata": {},
   "outputs": [],
   "source": [
    "#1st confusion matrix \n",
    "def compare_models(X ,Y, clf, params, add_features):\n",
    "    X_train, X_test, y_train, y_test  = train_test_split(X, \n",
    "                                                        Y,stratify=Y,\n",
    "                                                        test_size=0.1111, shuffle=True)\n",
    "\n",
    "    tf = TfidfVectorizer(stop_words='english', ngram_range=(1,2))\n",
    "    tf_Xtrain_description = tf.fit_transform(X_train['cleaned_description'])\n",
    "    tf_Xtest_description = tf.transform(X_test['cleaned_description'])\n",
    "    #would be better if u split data before then fit then transform  \n",
    "    if add_features:\n",
    "        X_train = X_train[add_features]\n",
    "        X_test = X_test[add_features]\n",
    "\n",
    "        X_train = X_train.fillna(0)\n",
    "        X_test = X_test.fillna(0)\n",
    "        \n",
    "        scaler = StandardScaler()   \n",
    "        X_train_scaled = scaler.fit_transform(X_train)\n",
    "        X_test_scaled = scaler.fit_transform(X_test)\n",
    "\n",
    "        X_train_sparse = csr_matrix(X_train_scaled)\n",
    "        X_test_sparse = csr_matrix(X_test_scaled)\n",
    "\n",
    "\n",
    "        tf_Xtrain = hstack((tf_Xtrain_description, X_train_sparse))\n",
    "        tf_Xtest = hstack((tf_Xtest_description, X_test_sparse))\n",
    "    else:\n",
    "        tf_Xtrain = tf_Xtrain_description\n",
    "        tf_Xtest = tf_Xtest_description\n",
    "    print(tf_Xtrain.shape)\n",
    "    d_train = lgb.Dataset(tf_Xtrain, label=y_train)\n",
    "    clf = lgb.train(params, d_train)\n",
    "        \n",
    "    \n",
    "    y_pred = clf.predict(tf_Xtest)\n",
    "    y_val_pred = np.argmax(y_pred, axis=1)\n",
    "    acc = accuracy_score(y_test,y_val_pred)\n",
    "    print(\"accuracy\", acc)\n",
    "    \n",
    "    y_test = le.inverse_transform(y_test)\n",
    "    y_pred = le.inverse_transform(y_val_pred)\n",
    "    \n",
    "    \"\"\"labels = ['JPN', 'KOR', 'CHI',  'HIN',  'TEL', 'ARA',  'TUR', 'SPA',  'FRE', 'ITA' ,'GER']\n",
    "    cf = confusion_matrix(y_test, y_pred, labels = labels)\n",
    "    cf_df = pd.DataFrame(cf ,index = labels, columns = labels)\"\"\"\n",
    "    return acc"
   ]
  },
  {
   "attachments": {},
   "cell_type": "markdown",
   "metadata": {},
   "source": [
    "searching for best features for our model"
   ]
  },
  {
   "cell_type": "code",
   "execution_count": null,
   "metadata": {},
   "outputs": [],
   "source": [
    "X = df[['cleaned_description','nb_seq', 'nb_words', 'len_text',\n",
    "       'nb_alpha', 'nb_uppercase', 'nb_syllable', 'mean_word_length',\n",
    "       'mean_sentence_length', 'mean_sentence_length_byWords',\n",
    "       'tot_diff_words', 'frequency_functional_words','pos_JJ', 'pos_NN', 'pos_CC', 'pos_IN', 'pos_VBZ', 'pos_RB', 'pos_VBG',\n",
    "       'pos_TO', 'pos_VB', 'pos_NNS', 'pos_DT', 'pos_WRB', 'pos_PRP',\n",
    "       'pos_VBP', 'pos_JJS', 'pos_VBN', 'pos_RBS', 'pos_VBD', 'pos_MD',\n",
    "       'pos_WDT', 'pos_EX', 'pos_PRP$', 'pos_CD', 'pos_JJR', 'pos_WP',\n",
    "       'pos_RBR', 'pos_RP', 'pos_PDT', 'pos_FW', 'pos_UH', 'pos_WP$',\n",
    "       'pos_NNP', 'pos_NNPS', 'pos_POS', 'pos_$', \"pos_''\", 'pos_SYM']]"
   ]
  },
  {
   "cell_type": "code",
   "execution_count": null,
   "metadata": {},
   "outputs": [],
   "source": [
    "import itertools\n",
    "from tqdm import tqdm"
   ]
  },
  {
   "cell_type": "code",
   "execution_count": null,
   "metadata": {},
   "outputs": [],
   "source": [
    "num_features = ['nb_seq', 'nb_words', 'len_text', 'nb_alpha', 'nb_uppercase', 'nb_syllable', 'mean_word_length', 'mean_sentence_length', 'mean_sentence_length_byWords', 'tot_diff_words', 'count_functional_words']\n",
    "\n",
    "# Generate all possible combinations of numerical features\n",
    "feature_combinations = []\n",
    "for i in range(len(num_features) + 1):\n",
    "    feature_combinations.extend(list(itertools.combinations(num_features, i)))\n",
    "\n",
    "# Evaluate the model with each feature combination\n",
    "### do not run, takes a long time to finish###\n",
    "\"\"\"\n",
    "results = []\n",
    "for combination in tqdm(feature_combinations, desc=\"Processing feature combinations\"):\n",
    "    selected_features = list(combination)\n",
    "    accuracy = compare_models(X, Y, LinearSVC(max_iter=1000), add_features=selected_features)\n",
    "    results.append((accuracy, selected_features))\n",
    "results = pd.DataFrame(results)\n",
    "\"\"\""
   ]
  },
  {
   "cell_type": "code",
   "execution_count": null,
   "metadata": {},
   "outputs": [],
   "source": [
    "best_comb = (results[results[0] == results[0].max()])"
   ]
  },
  {
   "cell_type": "code",
   "execution_count": null,
   "metadata": {},
   "outputs": [
    {
     "data": {
      "text/html": [
       "<div>\n",
       "<style scoped>\n",
       "    .dataframe tbody tr th:only-of-type {\n",
       "        vertical-align: middle;\n",
       "    }\n",
       "\n",
       "    .dataframe tbody tr th {\n",
       "        vertical-align: top;\n",
       "    }\n",
       "\n",
       "    .dataframe thead th {\n",
       "        text-align: right;\n",
       "    }\n",
       "</style>\n",
       "<table border=\"1\" class=\"dataframe\">\n",
       "  <thead>\n",
       "    <tr style=\"text-align: right;\">\n",
       "      <th></th>\n",
       "      <th>0</th>\n",
       "      <th>1</th>\n",
       "    </tr>\n",
       "  </thead>\n",
       "  <tbody>\n",
       "    <tr>\n",
       "      <td>1057</td>\n",
       "      <td>0.743636</td>\n",
       "      <td>[nb_seq, nb_words, len_text, nb_uppercase, mea...</td>\n",
       "    </tr>\n",
       "  </tbody>\n",
       "</table>\n",
       "</div>"
      ],
      "text/plain": [
       "             0                                                  1\n",
       "1057  0.743636  [nb_seq, nb_words, len_text, nb_uppercase, mea..."
      ]
     },
     "metadata": {},
     "output_type": "display_data"
    }
   ],
   "source": [
    "best_comb"
   ]
  },
  {
   "cell_type": "code",
   "execution_count": null,
   "metadata": {},
   "outputs": [
    {
     "name": "stdout",
     "output_type": "stream",
     "text": [
      "[['nb_seq', 'nb_words', 'len_text', 'nb_uppercase', 'mean_sentence_length_byWords', 'tot_diff_words']]\n"
     ]
    }
   ],
   "source": [
    "print(best_comb[1].tolist())"
   ]
  },
  {
   "cell_type": "markdown",
   "metadata": {},
   "source": [
    "best combination of features found to be [['nb_seq', 'nb_words', 'len_text', 'nb_uppercase', 'mean_sentence_length_byWords', 'tot_diff_words']]"
   ]
  },
  {
   "attachments": {},
   "cell_type": "markdown",
   "metadata": {},
   "source": [
    "### Hyper-parameters "
   ]
  },
  {
   "cell_type": "code",
   "execution_count": 40,
   "metadata": {},
   "outputs": [],
   "source": [
    "from sklearn.linear_model import SGDClassifier\n",
    "from sklearn.calibration import CalibratedClassifierCV"
   ]
  },
  {
   "cell_type": "code",
   "execution_count": 41,
   "metadata": {},
   "outputs": [],
   "source": [
    "import numpy as np\n",
    "from sklearn.model_selection import GridSearchCV"
   ]
  },
  {
   "cell_type": "code",
   "execution_count": 42,
   "metadata": {},
   "outputs": [],
   "source": [
    "param_grid = {\n",
    "    'C': np.logspace(-3, 3, 7),\n",
    "    'penalty': ['l1', 'l2'],\n",
    "    'dual': [False],\n",
    "    'loss': ['hinge', 'squared_hinge'],\n",
    "    'class_weight': [None, 'balanced'],\n",
    "    'random_state': [42]\n",
    "}"
   ]
  },
  {
   "cell_type": "code",
   "execution_count": 43,
   "metadata": {},
   "outputs": [],
   "source": [
    "grid_search = GridSearchCV(\n",
    "    LinearSVC(),\n",
    "    param_grid,\n",
    "    scoring='accuracy',\n",
    "    cv=5,\n",
    "    verbose=3,\n",
    "    n_jobs=-1\n",
    ")"
   ]
  },
  {
   "cell_type": "code",
   "execution_count": 78,
   "metadata": {},
   "outputs": [],
   "source": [
    "X_train, X_test, y_train, y_test  = train_test_split(X, \n",
    "                                                    Y,stratify=Y,\n",
    "                                                    test_size=0.1111, shuffle=True)\n",
    "\n",
    "tf = TfidfVectorizer(stop_words='english', ngram_range=(1,2))\n",
    "tf_Xtrain_description = tf.fit_transform(X_train['cleaned_description'])\n",
    "tf_Xtest_description = tf.transform(X_test['cleaned_description'])\n",
    "#would be better if u split data before then fit then transform  \n",
    "X_train = X_train[['nb_seq', 'nb_words', 'len_text', 'nb_uppercase', 'mean_sentence_length_byWords', 'tot_diff_words']]\n",
    "X_test = X_test[['nb_seq', 'nb_words', 'len_text', 'nb_uppercase', 'mean_sentence_length_byWords', 'tot_diff_words']]\n",
    "\n",
    "X_train = X_train.fillna(0)\n",
    "X_test = X_test.fillna(0)\n",
    "\n",
    "scaler = StandardScaler()   \n",
    "X_train_scaled = scaler.fit_transform(X_train)\n",
    "X_test_scaled = scaler.fit_transform(X_test)\n",
    "\n",
    "X_train_sparse = csr_matrix(X_train_scaled)\n",
    "X_test_sparse = csr_matrix(X_test_scaled)\n",
    "\n",
    "\n",
    "tf_Xtrain = hstack((tf_Xtrain_description, X_train_sparse))\n",
    "tf_Xtest = hstack((tf_Xtest_description, X_test_sparse))"
   ]
  },
  {
   "cell_type": "code",
   "execution_count": 79,
   "metadata": {},
   "outputs": [],
   "source": [
    "lr_svc = LinearSVC(max_iter=20000,random_state=42)"
   ]
  },
  {
   "cell_type": "code",
   "execution_count": 80,
   "metadata": {},
   "outputs": [
    {
     "name": "stdout",
     "output_type": "stream",
     "text": [
      "accuracy 0.6818181818181818\n"
     ]
    },
    {
     "name": "stderr",
     "output_type": "stream",
     "text": [
      "c:\\Users\\mazen\\Anaconda3\\lib\\site-packages\\sklearn\\svm\\_base.py:1208: ConvergenceWarning: Liblinear failed to converge, increase the number of iterations.\n",
      "  ConvergenceWarning,\n"
     ]
    }
   ],
   "source": [
    "lr_svc = lr_svc.fit(tf_Xtrain, y_train)\n",
    "\n",
    "y_pred = lr_svc.predict(tf_Xtest)\n",
    "acc = accuracy_score(y_test,y_pred)\n",
    "print(\"accuracy\", acc)\n",
    "\n",
    "y_test = le.inverse_transform(y_test)\n",
    "y_pred = le.inverse_transform(y_pred)\n",
    "\n",
    "labels = ['JPN', 'KOR', 'CHI',  'HIN',  'TEL', 'ARA',  'TUR', 'SPA',  'FRE', 'ITA' ,'GER']\n",
    "cf = confusion_matrix(y_test, y_pred, labels = labels)\n",
    "cf_df = pd.DataFrame(cf ,index = labels, columns = labels)"
   ]
  },
  {
   "cell_type": "code",
   "execution_count": 83,
   "metadata": {},
   "outputs": [
    {
     "name": "stdout",
     "output_type": "stream",
     "text": [
      "Fitting 5 folds for each of 56 candidates, totalling 280 fits\n"
     ]
    },
    {
     "name": "stderr",
     "output_type": "stream",
     "text": [
      "c:\\Users\\mazen\\Anaconda3\\lib\\site-packages\\sklearn\\model_selection\\_validation.py:372: FitFailedWarning: \n",
      "140 fits failed out of a total of 280.\n",
      "The score on these train-test partitions for these parameters will be set to nan.\n",
      "If these failures are not expected, you can try to debug them by setting error_score='raise'.\n",
      "\n",
      "Below are more details about the failures:\n",
      "--------------------------------------------------------------------------------\n",
      "70 fits failed with the following error:\n",
      "Traceback (most recent call last):\n",
      "  File \"c:\\Users\\mazen\\Anaconda3\\lib\\site-packages\\sklearn\\model_selection\\_validation.py\", line 680, in _fit_and_score\n",
      "    estimator.fit(X_train, y_train, **fit_params)\n",
      "  File \"c:\\Users\\mazen\\Anaconda3\\lib\\site-packages\\sklearn\\svm\\_classes.py\", line 272, in fit\n",
      "    sample_weight=sample_weight,\n",
      "  File \"c:\\Users\\mazen\\Anaconda3\\lib\\site-packages\\sklearn\\svm\\_base.py\", line 1185, in _fit_liblinear\n",
      "    solver_type = _get_liblinear_solver_type(multi_class, penalty, loss, dual)\n",
      "  File \"c:\\Users\\mazen\\Anaconda3\\lib\\site-packages\\sklearn\\svm\\_base.py\", line 1026, in _get_liblinear_solver_type\n",
      "    % (error_string, penalty, loss, dual)\n",
      "ValueError: Unsupported set of arguments: The combination of penalty='l1' and loss='hinge' is not supported, Parameters: penalty='l1', loss='hinge', dual=False\n",
      "\n",
      "--------------------------------------------------------------------------------\n",
      "70 fits failed with the following error:\n",
      "Traceback (most recent call last):\n",
      "  File \"c:\\Users\\mazen\\Anaconda3\\lib\\site-packages\\sklearn\\model_selection\\_validation.py\", line 680, in _fit_and_score\n",
      "    estimator.fit(X_train, y_train, **fit_params)\n",
      "  File \"c:\\Users\\mazen\\Anaconda3\\lib\\site-packages\\sklearn\\svm\\_classes.py\", line 272, in fit\n",
      "    sample_weight=sample_weight,\n",
      "  File \"c:\\Users\\mazen\\Anaconda3\\lib\\site-packages\\sklearn\\svm\\_base.py\", line 1185, in _fit_liblinear\n",
      "    solver_type = _get_liblinear_solver_type(multi_class, penalty, loss, dual)\n",
      "  File \"c:\\Users\\mazen\\Anaconda3\\lib\\site-packages\\sklearn\\svm\\_base.py\", line 1026, in _get_liblinear_solver_type\n",
      "    % (error_string, penalty, loss, dual)\n",
      "ValueError: Unsupported set of arguments: The combination of penalty='l2' and loss='hinge' are not supported when dual=False, Parameters: penalty='l2', loss='hinge', dual=False\n",
      "\n",
      "  warnings.warn(some_fits_failed_message, FitFailedWarning)\n",
      "c:\\Users\\mazen\\Anaconda3\\lib\\site-packages\\sklearn\\model_selection\\_search.py:972: UserWarning: One or more of the test scores are non-finite: [       nan        nan 0.15170455 0.20659091        nan        nan\n",
      " 0.15170455 0.20659091        nan        nan 0.19340909 0.31965909\n",
      "        nan        nan 0.19340909 0.31965909        nan        nan\n",
      " 0.31340909 0.59125           nan        nan 0.31340909 0.59125\n",
      "        nan        nan 0.62204545 0.69261364        nan        nan\n",
      " 0.62204545 0.69261364        nan        nan 0.62125    0.70375\n",
      "        nan        nan 0.62125    0.70375           nan        nan\n",
      " 0.61875    0.70329545        nan        nan 0.61875    0.70329545\n",
      "        nan        nan 0.62602273 0.70340909        nan        nan\n",
      " 0.62602273 0.70340909]\n",
      "  category=UserWarning,\n"
     ]
    },
    {
     "data": {
      "text/plain": [
       "GridSearchCV(cv=5, estimator=LinearSVC(), n_jobs=-1,\n",
       "             param_grid={'C': array([1.e-03, 1.e-02, 1.e-01, 1.e+00, 1.e+01, 1.e+02, 1.e+03]),\n",
       "                         'class_weight': [None, 'balanced'], 'dual': [False],\n",
       "                         'loss': ['hinge', 'squared_hinge'],\n",
       "                         'penalty': ['l1', 'l2'], 'random_state': [42]},\n",
       "             scoring='accuracy', verbose=3)"
      ]
     },
     "execution_count": 83,
     "metadata": {},
     "output_type": "execute_result"
    }
   ],
   "source": [
    "grid_search.fit(tf_Xtrain, y_train)"
   ]
  },
  {
   "cell_type": "code",
   "execution_count": 84,
   "metadata": {},
   "outputs": [
    {
     "name": "stdout",
     "output_type": "stream",
     "text": [
      "Best Parameters: {'C': 10.0, 'class_weight': None, 'dual': False, 'loss': 'squared_hinge', 'penalty': 'l2', 'random_state': 42}\n",
      "Best Accuracy Score: 0.70375\n"
     ]
    }
   ],
   "source": [
    "best_params = grid_search.best_params_\n",
    "best_score = grid_search.best_score_\n",
    "print(\"Best Parameters:\", best_params)\n",
    "print(\"Best Accuracy Score:\", best_score)"
   ]
  },
  {
   "attachments": {},
   "cell_type": "markdown",
   "metadata": {},
   "source": [
    "best accuracy doesn't really show that the score got better at all it's better just by 0.002"
   ]
  },
  {
   "cell_type": "code",
   "execution_count": 87,
   "metadata": {},
   "outputs": [
    {
     "name": "stdout",
     "output_type": "stream",
     "text": [
      "accuracy 0.7081818181818181\n"
     ]
    }
   ],
   "source": [
    "cf = model(X,Y,LinearSVC(max_iter=1000,C= 10.0, class_weight= None, dual= False, loss= 'squared_hinge', penalty= 'l2', random_state= 42) ,add_features=['nb_seq', 'nb_words', 'len_text', 'nb_uppercase', 'mean_sentence_length_byWords', 'tot_diff_words','pos_JJ', 'pos_NN', 'pos_CC', 'pos_IN', 'pos_VBZ', 'pos_RB', 'pos_VBG',\n",
    "       'pos_TO', 'pos_VB', 'pos_NNS', 'pos_DT', 'pos_WRB', 'pos_PRP',\n",
    "       'pos_VBP', 'pos_JJS', 'pos_VBN', 'pos_RBS', 'pos_VBD', 'pos_MD',\n",
    "       'pos_WDT', 'pos_EX', 'pos_PRP$', 'pos_CD', 'pos_JJR', 'pos_WP',\n",
    "       'pos_RBR', 'pos_RP', 'pos_PDT', 'pos_FW', 'pos_UH', 'pos_WP$',\n",
    "       'pos_NNP', 'pos_NNPS', 'pos_POS', 'pos_$', \"pos_''\", 'pos_SYM'])"
   ]
  },
  {
   "attachments": {},
   "cell_type": "markdown",
   "metadata": {},
   "source": [
    "our best model with our best features and hyparameters is still not perfomring better as much, if we look at the accuracy i got better by just 0.005"
   ]
  },
  {
   "cell_type": "code",
   "execution_count": 46,
   "metadata": {},
   "outputs": [
    {
     "name": "stdout",
     "output_type": "stream",
     "text": [
      "[0.51534091 0.46704545 0.48522727 0.47102273 0.47386364] 0.48250000000000004\n",
      "accuracy 0.5354545454545454\n"
     ]
    }
   ],
   "source": [
    "from sklearn.linear_model import LogisticRegression\n",
    "\n",
    "cf = model(X,Y,LogisticRegression(max_iter = 2000, n_jobs = -1 ) ,add_features=['nb_seq', 'nb_words', 'len_text', 'nb_uppercase', 'mean_sentence_length_byWords', 'tot_diff_words','pos_JJ', 'pos_NN', 'pos_CC', 'pos_IN', 'pos_VBZ', 'pos_RB', 'pos_VBG',\n",
    "       'pos_TO', 'pos_VB', 'pos_NNS', 'pos_DT', 'pos_WRB', 'pos_PRP',\n",
    "       'pos_VBP', 'pos_JJS', 'pos_VBN', 'pos_RBS', 'pos_VBD', 'pos_MD',\n",
    "       'pos_WDT', 'pos_EX', 'pos_PRP$', 'pos_CD', 'pos_JJR', 'pos_WP',\n",
    "       'pos_RBR', 'pos_RP', 'pos_PDT', 'pos_FW', 'pos_UH', 'pos_WP$',\n",
    "       'pos_NNP', 'pos_NNPS', 'pos_POS', 'pos_$', \"pos_''\", 'pos_SYM'])"
   ]
  },
  {
   "attachments": {},
   "cell_type": "markdown",
   "metadata": {},
   "source": [
    "we tried running logisticRegression with new features we have but can see that's it's worse than linearsvc"
   ]
  },
  {
   "cell_type": "code",
   "execution_count": 88,
   "metadata": {
    "scrolled": true
   },
   "outputs": [],
   "source": [
    "linear_svc = LinearSVC(max_iter=1000,C= 10.0, class_weight= None, dual= False, loss= 'squared_hinge', penalty= 'l2', random_state= 42)\n",
    "cf = model(X,Y,CalibratedClassifierCV(linear_svc ,n_jobs = -1 ,cv=5) ,add_features=['nb_seq', 'nb_words', 'len_text', 'nb_uppercase', 'mean_sentence_length_byWords', 'tot_diff_words','frequency_functional_words','pos_JJ', 'pos_NN', 'pos_CC', 'pos_IN', 'pos_VBZ', 'pos_RB', 'pos_VBG',\n",
    "       'pos_TO', 'pos_VB', 'pos_NNS', 'pos_DT', 'pos_WRB', 'pos_PRP',\n",
    "       'pos_VBP', 'pos_JJS', 'pos_VBN', 'pos_RBS', 'pos_VBD', 'pos_MD',\n",
    "       'pos_WDT', 'pos_EX', 'pos_PRP$', 'pos_CD', 'pos_JJR', 'pos_WP',\n",
    "       'pos_RBR', 'pos_RP', 'pos_PDT', 'pos_FW', 'pos_UH', 'pos_WP$',\n",
    "       'pos_NNP', 'pos_NNPS', 'pos_POS', 'pos_$', \"pos_''\", 'pos_SYM'])"
   ]
  },
  {
   "cell_type": "markdown",
   "metadata": {},
   "source": [
    "## Classifier Cascades\n",
    "\n",
    "We find that might be it could be better to separate in to close group of language rather than try to clasify every language at onnce. We can look closer to the confusion matrix of devide it into close relation group of languages."
   ]
  },
  {
   "cell_type": "code",
   "execution_count": null,
   "metadata": {},
   "outputs": [
    {
     "data": {
      "text/plain": [
       "0     100\n",
       "1     100\n",
       "2     100\n",
       "3     100\n",
       "4     100\n",
       "5     100\n",
       "6     100\n",
       "7     100\n",
       "8     100\n",
       "9     100\n",
       "10    100\n",
       "dtype: int64"
      ]
     },
     "execution_count": 39,
     "metadata": {},
     "output_type": "execute_result"
    }
   ],
   "source": [
    "pd.DataFrame(y_test).value_counts()"
   ]
  },
  {
   "cell_type": "code",
   "execution_count": 42,
   "metadata": {},
   "outputs": [
    {
     "data": {
      "text/html": [
       "<div>\n",
       "<style scoped>\n",
       "    .dataframe tbody tr th:only-of-type {\n",
       "        vertical-align: middle;\n",
       "    }\n",
       "\n",
       "    .dataframe tbody tr th {\n",
       "        vertical-align: top;\n",
       "    }\n",
       "\n",
       "    .dataframe thead th {\n",
       "        text-align: right;\n",
       "    }\n",
       "</style>\n",
       "<table border=\"1\" class=\"dataframe\">\n",
       "  <thead>\n",
       "    <tr style=\"text-align: right;\">\n",
       "      <th></th>\n",
       "      <th>country</th>\n",
       "      <th>description</th>\n",
       "      <th>y_country</th>\n",
       "      <th>nb_seq</th>\n",
       "      <th>nb_words</th>\n",
       "      <th>len_text</th>\n",
       "      <th>nb_alpha</th>\n",
       "      <th>nb_uppercase</th>\n",
       "      <th>nb_syllable</th>\n",
       "      <th>mean_word_length</th>\n",
       "      <th>mean_sentence_length</th>\n",
       "      <th>mean_sentence_length_byWords</th>\n",
       "      <th>tot_diff_words</th>\n",
       "      <th>cleaned_description</th>\n",
       "    </tr>\n",
       "  </thead>\n",
       "  <tbody>\n",
       "    <tr>\n",
       "      <th>0</th>\n",
       "      <td>GER</td>\n",
       "      <td>IThe importance and popularity of travelling i...</td>\n",
       "      <td>3</td>\n",
       "      <td>13</td>\n",
       "      <td>321</td>\n",
       "      <td>None</td>\n",
       "      <td>1293</td>\n",
       "      <td>16</td>\n",
       "      <td>468</td>\n",
       "      <td>5.611511</td>\n",
       "      <td>125.923077</td>\n",
       "      <td>26.076923</td>\n",
       "      <td>0.380531</td>\n",
       "      <td>ithe importance and popularity of travelling i...</td>\n",
       "    </tr>\n",
       "    <tr>\n",
       "      <th>1</th>\n",
       "      <td>TUR</td>\n",
       "      <td>It is an important decision , how to plan your...</td>\n",
       "      <td>10</td>\n",
       "      <td>15</td>\n",
       "      <td>362</td>\n",
       "      <td>None</td>\n",
       "      <td>1624</td>\n",
       "      <td>19</td>\n",
       "      <td>571</td>\n",
       "      <td>5.911111</td>\n",
       "      <td>136.000000</td>\n",
       "      <td>26.333333</td>\n",
       "      <td>0.492424</td>\n",
       "      <td>it is an important decision how to plan your s...</td>\n",
       "    </tr>\n",
       "    <tr>\n",
       "      <th>2</th>\n",
       "      <td>CHI</td>\n",
       "      <td>Some people believe that young people can enjo...</td>\n",
       "      <td>1</td>\n",
       "      <td>26</td>\n",
       "      <td>362</td>\n",
       "      <td>None</td>\n",
       "      <td>1501</td>\n",
       "      <td>29</td>\n",
       "      <td>532</td>\n",
       "      <td>5.212435</td>\n",
       "      <td>73.730769</td>\n",
       "      <td>15.423077</td>\n",
       "      <td>0.412935</td>\n",
       "      <td>some people believe that young people can enjo...</td>\n",
       "    </tr>\n",
       "    <tr>\n",
       "      <th>3</th>\n",
       "      <td>TEL</td>\n",
       "      <td>Travelling is usually considered as good recre...</td>\n",
       "      <td>9</td>\n",
       "      <td>14</td>\n",
       "      <td>344</td>\n",
       "      <td>None</td>\n",
       "      <td>1448</td>\n",
       "      <td>17</td>\n",
       "      <td>1</td>\n",
       "      <td>5.796296</td>\n",
       "      <td>129.571429</td>\n",
       "      <td>25.857143</td>\n",
       "      <td>0.411602</td>\n",
       "      <td>travelling is usually considered as good recre...</td>\n",
       "    </tr>\n",
       "    <tr>\n",
       "      <th>4</th>\n",
       "      <td>ARA</td>\n",
       "      <td>i agree that . Life is a person live period of...</td>\n",
       "      <td>0</td>\n",
       "      <td>13</td>\n",
       "      <td>170</td>\n",
       "      <td>None</td>\n",
       "      <td>736</td>\n",
       "      <td>7</td>\n",
       "      <td>262</td>\n",
       "      <td>5.269663</td>\n",
       "      <td>71.307692</td>\n",
       "      <td>14.384615</td>\n",
       "      <td>0.459893</td>\n",
       "      <td>i agree that life is a person live period of t...</td>\n",
       "    </tr>\n",
       "    <tr>\n",
       "      <th>...</th>\n",
       "      <td>...</td>\n",
       "      <td>...</td>\n",
       "      <td>...</td>\n",
       "      <td>...</td>\n",
       "      <td>...</td>\n",
       "      <td>...</td>\n",
       "      <td>...</td>\n",
       "      <td>...</td>\n",
       "      <td>...</td>\n",
       "      <td>...</td>\n",
       "      <td>...</td>\n",
       "      <td>...</td>\n",
       "      <td>...</td>\n",
       "      <td>...</td>\n",
       "    </tr>\n",
       "    <tr>\n",
       "      <th>9895</th>\n",
       "      <td>CHI</td>\n",
       "      <td>Nowadays , more and more people go abroad , no...</td>\n",
       "      <td>1</td>\n",
       "      <td>17</td>\n",
       "      <td>325</td>\n",
       "      <td>None</td>\n",
       "      <td>1339</td>\n",
       "      <td>14</td>\n",
       "      <td>471</td>\n",
       "      <td>5.032432</td>\n",
       "      <td>102.764706</td>\n",
       "      <td>21.882353</td>\n",
       "      <td>0.454301</td>\n",
       "      <td>nowadays more and more people go abroad no mat...</td>\n",
       "    </tr>\n",
       "    <tr>\n",
       "      <th>9896</th>\n",
       "      <td>KOR</td>\n",
       "      <td>In accomplishing something that is risky comes...</td>\n",
       "      <td>7</td>\n",
       "      <td>19</td>\n",
       "      <td>339</td>\n",
       "      <td>None</td>\n",
       "      <td>1529</td>\n",
       "      <td>35</td>\n",
       "      <td>545</td>\n",
       "      <td>5.884211</td>\n",
       "      <td>101.263158</td>\n",
       "      <td>19.684211</td>\n",
       "      <td>0.537433</td>\n",
       "      <td>in accomplishing something that is risky comes...</td>\n",
       "    </tr>\n",
       "    <tr>\n",
       "      <th>9897</th>\n",
       "      <td>SPA</td>\n",
       "      <td>At the beginning of the 21st century , the inc...</td>\n",
       "      <td>8</td>\n",
       "      <td>12</td>\n",
       "      <td>327</td>\n",
       "      <td>None</td>\n",
       "      <td>1531</td>\n",
       "      <td>17</td>\n",
       "      <td>558</td>\n",
       "      <td>6.325843</td>\n",
       "      <td>158.333333</td>\n",
       "      <td>29.333333</td>\n",
       "      <td>0.491477</td>\n",
       "      <td>at the beginning of the 21st century the incre...</td>\n",
       "    </tr>\n",
       "    <tr>\n",
       "      <th>9898</th>\n",
       "      <td>HIN</td>\n",
       "      <td>The number of cars in use across the world has...</td>\n",
       "      <td>4</td>\n",
       "      <td>20</td>\n",
       "      <td>497</td>\n",
       "      <td>None</td>\n",
       "      <td>2478</td>\n",
       "      <td>22</td>\n",
       "      <td>891</td>\n",
       "      <td>6.364865</td>\n",
       "      <td>152.750000</td>\n",
       "      <td>27.350000</td>\n",
       "      <td>0.453382</td>\n",
       "      <td>the number of cars in use across the world has...</td>\n",
       "    </tr>\n",
       "    <tr>\n",
       "      <th>9899</th>\n",
       "      <td>CHI</td>\n",
       "      <td>Many people think it is betters to have borad ...</td>\n",
       "      <td>1</td>\n",
       "      <td>15</td>\n",
       "      <td>288</td>\n",
       "      <td>None</td>\n",
       "      <td>1275</td>\n",
       "      <td>21</td>\n",
       "      <td>480</td>\n",
       "      <td>5.756098</td>\n",
       "      <td>107.133333</td>\n",
       "      <td>21.066667</td>\n",
       "      <td>0.420886</td>\n",
       "      <td>many people think it is betters to have borad ...</td>\n",
       "    </tr>\n",
       "  </tbody>\n",
       "</table>\n",
       "<p>9900 rows × 14 columns</p>\n",
       "</div>"
      ],
      "text/plain": [
       "     country                                        description  y_country  \\\n",
       "0        GER  IThe importance and popularity of travelling i...          3   \n",
       "1        TUR  It is an important decision , how to plan your...         10   \n",
       "2        CHI  Some people believe that young people can enjo...          1   \n",
       "3        TEL  Travelling is usually considered as good recre...          9   \n",
       "4        ARA  i agree that . Life is a person live period of...          0   \n",
       "...      ...                                                ...        ...   \n",
       "9895     CHI  Nowadays , more and more people go abroad , no...          1   \n",
       "9896     KOR  In accomplishing something that is risky comes...          7   \n",
       "9897     SPA  At the beginning of the 21st century , the inc...          8   \n",
       "9898     HIN  The number of cars in use across the world has...          4   \n",
       "9899     CHI  Many people think it is betters to have borad ...          1   \n",
       "\n",
       "      nb_seq  nb_words len_text  nb_alpha  nb_uppercase  nb_syllable  \\\n",
       "0         13       321     None      1293            16          468   \n",
       "1         15       362     None      1624            19          571   \n",
       "2         26       362     None      1501            29          532   \n",
       "3         14       344     None      1448            17            1   \n",
       "4         13       170     None       736             7          262   \n",
       "...      ...       ...      ...       ...           ...          ...   \n",
       "9895      17       325     None      1339            14          471   \n",
       "9896      19       339     None      1529            35          545   \n",
       "9897      12       327     None      1531            17          558   \n",
       "9898      20       497     None      2478            22          891   \n",
       "9899      15       288     None      1275            21          480   \n",
       "\n",
       "      mean_word_length  mean_sentence_length  mean_sentence_length_byWords  \\\n",
       "0             5.611511            125.923077                     26.076923   \n",
       "1             5.911111            136.000000                     26.333333   \n",
       "2             5.212435             73.730769                     15.423077   \n",
       "3             5.796296            129.571429                     25.857143   \n",
       "4             5.269663             71.307692                     14.384615   \n",
       "...                ...                   ...                           ...   \n",
       "9895          5.032432            102.764706                     21.882353   \n",
       "9896          5.884211            101.263158                     19.684211   \n",
       "9897          6.325843            158.333333                     29.333333   \n",
       "9898          6.364865            152.750000                     27.350000   \n",
       "9899          5.756098            107.133333                     21.066667   \n",
       "\n",
       "      tot_diff_words                                cleaned_description  \n",
       "0           0.380531  ithe importance and popularity of travelling i...  \n",
       "1           0.492424  it is an important decision how to plan your s...  \n",
       "2           0.412935  some people believe that young people can enjo...  \n",
       "3           0.411602  travelling is usually considered as good recre...  \n",
       "4           0.459893  i agree that life is a person live period of t...  \n",
       "...              ...                                                ...  \n",
       "9895        0.454301  nowadays more and more people go abroad no mat...  \n",
       "9896        0.537433  in accomplishing something that is risky comes...  \n",
       "9897        0.491477  at the beginning of the 21st century the incre...  \n",
       "9898        0.453382  the number of cars in use across the world has...  \n",
       "9899        0.420886  many people think it is betters to have borad ...  \n",
       "\n",
       "[9900 rows x 14 columns]"
      ]
     },
     "execution_count": 42,
     "metadata": {},
     "output_type": "execute_result"
    }
   ],
   "source": [
    "df"
   ]
  },
  {
   "cell_type": "code",
   "execution_count": 54,
   "metadata": {},
   "outputs": [],
   "source": [
    "asian = ['JPN', 'KOR', 'CHI']\n",
    "indian = ['HIN', 'TEL']\n",
    "other = ['ARA', 'TUR', 'SPA', 'FRE', 'ITA', 'GER']\n",
    "\n",
    "df_asian = df[df['country'].isin(asian)]\n",
    "df_indian = df[df['country'].isin(indian)]\n",
    "df_other = df[df['country'].isin(other)]\n",
    "\n",
    "\n",
    "# le = preprocessing.LabelEncoder()\n",
    "# df_asian['y_country'] = le.fit_transform(df_asian.country)\n",
    "# df_indian['y_country'] = le.fit_transform(df_indian.country)\n",
    "# df_other['y_country'] = le.fit_transform(df_other.country)\n"
   ]
  },
  {
   "cell_type": "code",
   "execution_count": 55,
   "metadata": {},
   "outputs": [
    {
     "data": {
      "text/plain": [
       "0        True\n",
       "1        True\n",
       "2       False\n",
       "3        True\n",
       "4        True\n",
       "        ...  \n",
       "9895    False\n",
       "9896    False\n",
       "9897     True\n",
       "9898     True\n",
       "9899    False\n",
       "Name: country, Length: 9900, dtype: bool"
      ]
     },
     "execution_count": 55,
     "metadata": {},
     "output_type": "execute_result"
    }
   ],
   "source": [
    "~df['country'].isin(asian)"
   ]
  },
  {
   "cell_type": "code",
   "execution_count": 56,
   "metadata": {},
   "outputs": [
    {
     "data": {
      "text/plain": [
       "0       False\n",
       "1       False\n",
       "2        True\n",
       "3       False\n",
       "4       False\n",
       "        ...  \n",
       "9895     True\n",
       "9896     True\n",
       "9897    False\n",
       "9898    False\n",
       "9899     True\n",
       "Name: country, Length: 9900, dtype: bool"
      ]
     },
     "execution_count": 56,
     "metadata": {},
     "output_type": "execute_result"
    }
   ],
   "source": [
    "df['country'].isin(asian)"
   ]
  },
  {
   "cell_type": "code",
   "execution_count": 63,
   "metadata": {},
   "outputs": [
    {
     "name": "stderr",
     "output_type": "stream",
     "text": [
      "/var/folders/yf/jsht06l94t5_wb6s1c65k6v40000gn/T/ipykernel_76617/828803369.py:1: SettingWithCopyWarning: \n",
      "A value is trying to be set on a copy of a slice from a DataFrame.\n",
      "Try using .loc[row_indexer,col_indexer] = value instead\n",
      "\n",
      "See the caveats in the documentation: https://pandas.pydata.org/pandas-docs/stable/user_guide/indexing.html#returning-a-view-versus-a-copy\n",
      "  df_asian['y_country'] = le.fit_transform(df_asian.country)\n"
     ]
    }
   ],
   "source": [
    "df_asian['y_country'] = le.fit_transform(df_asian.country)"
   ]
  },
  {
   "cell_type": "code",
   "execution_count": 64,
   "metadata": {},
   "outputs": [],
   "source": [
    "X_asian = df_asian['cleaned_description'].values.tolist() \n",
    "Y_asian = df_asian['y_country'].values.tolist()"
   ]
  },
  {
   "cell_type": "code",
   "execution_count": 73,
   "metadata": {},
   "outputs": [],
   "source": [
    "def model_cascade(X ,Y, clf, language_group):\n",
    "    X_train, X_test, y_train, y_test  = train_test_split(X, \n",
    "                                                        Y,stratify=Y,\n",
    "                                                        test_size=0.1111, shuffle=True)\n",
    "    \n",
    "    #would be better if u split data before then fit then transform  \n",
    "    tf = TfidfVectorizer(stop_words='english', ngram_range=(1,2))\n",
    "    tf_Xtrain = tf.fit_transform(X_train)\n",
    "    tf_Xtest = tf.transform(X_test)\n",
    "    \n",
    "    \n",
    "    clf.fit(tf_Xtrain,y_train)\n",
    "    y_pred = clf.predict(tf_Xtest)\n",
    "    print(\"accuracy\", accuracy_score(y_test,y_pred))\n",
    "    \n",
    "    y_test = le.inverse_transform(y_test)\n",
    "    y_pred = le.inverse_transform(y_pred)\n",
    "    \n",
    "    labels = ['JPN', 'KOR', 'CHI']\n",
    "    cf = confusion_matrix(y_test, y_pred, labels = labels)\n",
    "    cf_df = pd.DataFrame(cf ,index = labels, columns = labels)\n",
    "    \n",
    "    return cf_df"
   ]
  },
  {
   "cell_type": "code",
   "execution_count": 78,
   "metadata": {},
   "outputs": [
    {
     "name": "stdout",
     "output_type": "stream",
     "text": [
      "accuracy 0.7766666666666666\n"
     ]
    }
   ],
   "source": [
    "cf_df_asian = model_cascade(X_asian,Y_asian, LinearSVC(max_iter=1000), asian)"
   ]
  },
  {
   "cell_type": "code",
   "execution_count": 79,
   "metadata": {},
   "outputs": [
    {
     "data": {
      "text/plain": [
       "<AxesSubplot:>"
      ]
     },
     "execution_count": 79,
     "metadata": {},
     "output_type": "execute_result"
    },
    {
     "data": {
      "image/png": "[encoded data removed]",
      "text/plain": [
       "<Figure size 1170x827 with 2 Axes>"
      ]
     },
     "metadata": {},
     "output_type": "display_data"
    }
   ],
   "source": [
    "sns.heatmap(cf_df_asian, annot=True)"
   ]
  },
  {
   "cell_type": "code",
   "execution_count": null,
   "metadata": {},
   "outputs": [],
   "source": []
  },
  {
   "cell_type": "code",
   "execution_count": null,
   "metadata": {},
   "outputs": [],
   "source": []
  }
 ],
 "metadata": {
  "kernelspec": {
   "display_name": "Python 3",
   "language": "python",
   "name": "python3"
  },
  "language_info": {
   "codemirror_mode": {
    "name": "ipython",
    "version": 3
   },
   "file_extension": ".py",
   "mimetype": "text/x-python",
   "name": "python",
   "nbconvert_exporter": "python",
   "pygments_lexer": "ipython3",
   "version": "3.7.4"
  },
  "vscode": {
   "interpreter": {
    "hash": "916e013a3240fe610b606f964e4248581da08577c8df2e41fa7a276e3e6eb8ae"
   }
  }
 },
 "nbformat": 4,
 "nbformat_minor": 2
}
